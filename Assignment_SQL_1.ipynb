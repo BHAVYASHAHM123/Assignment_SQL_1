{
  "nbformat": 4,
  "nbformat_minor": 0,
  "metadata": {
    "colab": {
      "name": "Assignment_SQL_1.ipynb",
      "provenance": []
    },
    "kernelspec": {
      "name": "python3",
      "display_name": "Python 3"
    },
    "language_info": {
      "name": "python"
    }
  },
  "cells": [
    {
      "cell_type": "markdown",
      "source": [
        "Q-1). Write an SQL query to fetch “FIRST_NAME” from Worker table using the alias\n",
        "name as <WORKER_NAME>.\n",
        "\n",
        "Ans) SELECT * FROM Worker WHERE “FIRST_NAME” = 'WORKER_NAME'"
      ],
      "metadata": {
        "id": "XOHyCNlMJ3ft"
      }
    },
    {
      "cell_type": "markdown",
      "source": [
        "Q-2). Write an SQL query to fetch unique values of DEPARTMENT from Worker table.\n",
        "\n",
        "Ans) SELECT DEPARTMENT department_id FROM Worker"
      ],
      "metadata": {
        "id": "u6kzX6spNcqk"
      }
    },
    {
      "cell_type": "markdown",
      "source": [
        "Q-3). Write an SQL query to show the last 5 record from a table.\n",
        "\n",
        "Ans) SELECT * FROM Worker WHERE worker_id > (SELECT MAX(worker_id) - 5 FROM Worker)\n"
      ],
      "metadata": {
        "id": "56mYYTCANz15"
      }
    },
    {
      "cell_type": "code",
      "execution_count": null,
      "metadata": {
        "id": "ZKyuBTmiJsRz"
      },
      "outputs": [],
      "source": [
        ""
      ]
    }
  ]
}